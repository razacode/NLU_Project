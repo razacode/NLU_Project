{
  "nbformat": 4,
  "nbformat_minor": 0,
  "metadata": {
    "colab": {
      "name": "NLU_Project_SA_3",
      "provenance": [],
      "collapsed_sections": []
    },
    "kernelspec": {
      "name": "python3",
      "display_name": "Python 3"
    },
    "language_info": {
      "name": "python"
    },
    "accelerator": "GPU"
  },
  "cells": [
    {
      "cell_type": "markdown",
      "metadata": {
        "id": "DdvP7tG7HqqX"
      },
      "source": [
        "Faster and using half of parameter FastText Model"
      ]
    },
    {
      "cell_type": "code",
      "metadata": {
        "id": "0_7bbmxZEH1l"
      },
      "source": [
        "def generate_bigrams(x):\n",
        "  n_grams = set(zip(*[x[i:] for i in range(2)]))\n",
        "  for n_gram in n_grams:\n",
        "    x.append(' '.join(n_gram))\n",
        "  return x"
      ],
      "execution_count": 2,
      "outputs": []
    },
    {
      "cell_type": "code",
      "metadata": {
        "colab": {
          "base_uri": "https://localhost:8080/"
        },
        "id": "ffKNNI2zQh4J",
        "outputId": "967110ac-d171-4c39-cd62-c472acf103e8"
      },
      "source": [
        "#check as test\n",
        "generate_bigrams(['This', 'film', 'is', 'good'])"
      ],
      "execution_count": 3,
      "outputs": [
        {
          "output_type": "execute_result",
          "data": {
            "text/plain": [
              "['This', 'film', 'is', 'good', 'film is', 'is good', 'This film']"
            ]
          },
          "metadata": {
            "tags": []
          },
          "execution_count": 3
        }
      ]
    },
    {
      "cell_type": "code",
      "metadata": {
        "id": "IQQrr6GbRaq8"
      },
      "source": [
        "import torch\n",
        "from torchtext.legacy import data\n",
        "from torchtext.legacy import datasets\n",
        "\n",
        "SEED  =1234\n",
        "\n",
        "torch.manual_seed(SEED)\n",
        "torch.backends.cudnn.deterministics = True\n",
        "\n",
        "TEXT  = data.Field(tokenize = 'spacy', tokenizer_language = 'en_core_web_sm',\n",
        "                   preprocessing = generate_bigrams)\n",
        "\n",
        "LABEL = data.LabelField(dtype = torch.float)"
      ],
      "execution_count": 4,
      "outputs": []
    },
    {
      "cell_type": "code",
      "metadata": {
        "colab": {
          "base_uri": "https://localhost:8080/"
        },
        "id": "wiUOiULhS7yW",
        "outputId": "535faaf3-1508-4fd7-abeb-2f0ebc8745c7"
      },
      "source": [
        "#loading IMDB dataset\n",
        "import random\n",
        "\n",
        "train_data, test_data = datasets.IMDB.splits(TEXT, LABEL)\n",
        "\n",
        "train_data, val_data = train_data.split(random_state = random.seed(SEED))"
      ],
      "execution_count": 5,
      "outputs": [
        {
          "output_type": "stream",
          "text": [
            "aclImdb_v1.tar.gz:   0%|          | 344k/84.1M [00:00<00:26, 3.11MB/s]"
          ],
          "name": "stderr"
        },
        {
          "output_type": "stream",
          "text": [
            "downloading aclImdb_v1.tar.gz\n"
          ],
          "name": "stdout"
        },
        {
          "output_type": "stream",
          "text": [
            "aclImdb_v1.tar.gz: 100%|██████████| 84.1M/84.1M [00:00<00:00, 84.4MB/s]\n"
          ],
          "name": "stderr"
        }
      ]
    },
    {
      "cell_type": "code",
      "metadata": {
        "id": "agK_8Z-gTSpC",
        "colab": {
          "base_uri": "https://localhost:8080/"
        },
        "outputId": "2767a9e4-9bd5-45d0-a8a5-3c1a232a405b"
      },
      "source": [
        "MAX_VOCAB_SIZE = 25_000\n",
        "\n",
        "TEXT.build_vocab(train_data, \n",
        "                 max_size = MAX_VOCAB_SIZE, \n",
        "                 vectors = \"glove.6B.100d\", \n",
        "                 unk_init = torch.Tensor.normal_)\n",
        "\n",
        "LABEL.build_vocab(train_data)"
      ],
      "execution_count": 6,
      "outputs": [
        {
          "output_type": "stream",
          "text": [
            ".vector_cache/glove.6B.zip: 862MB [02:40, 5.39MB/s]                           \n",
            "100%|█████████▉| 398653/400000 [00:14<00:00, 28315.44it/s]"
          ],
          "name": "stderr"
        }
      ]
    },
    {
      "cell_type": "code",
      "metadata": {
        "id": "z6FGtlQEUV7P"
      },
      "source": [
        "BATCH_SIZE = 64\n",
        "\n",
        "device = torch.device('cuda' if torch.cuda.is_available() else 'cpu')\n",
        "\n",
        "train_iterator, valid_iterator, test_iterator = data.BucketIterator.splits(\n",
        "    (train_data, val_data, test_data), \n",
        "    batch_size = BATCH_SIZE, \n",
        "    device = device)"
      ],
      "execution_count": 22,
      "outputs": []
    },
    {
      "cell_type": "code",
      "metadata": {
        "id": "X-s1TY_sVR55"
      },
      "source": [
        "#Model has few parameter and 2 layer with no RNN component \n",
        "# Has embedding layer and linear layer"
      ],
      "execution_count": 8,
      "outputs": []
    },
    {
      "cell_type": "code",
      "metadata": {
        "id": "zQqxc5dUZrZ8"
      },
      "source": [
        "# import torch.nn as nn\n",
        "# import torch.nn.functional as F\n",
        "\n",
        "# class FastText(nn.Module):\n",
        "\n",
        "#   def __init__(self, vocab_size, emb_dim, o_dim, pad_idx):\n",
        "#     super().__init__()\n",
        "\n",
        "#     self.embedding = nn.Embedding(vocab_size, emb_dim, padding_idx = pad_idx)\n",
        "#     self.fc = nn.Linear(emb_dim, o_dim)\n",
        "\n",
        "#   def forward(self, text):\n",
        "\n",
        "#     embedded = self.embedding(text)\n",
        "#     embedded = self.embedded.permute(1,0,2)\n",
        "#     pooled = F.avg_pool2d(embedded, (embedded.shape[1],1)).squeeze(1)\n",
        "\n",
        "#     return self.fc(pooled)\n",
        "import torch.nn as nn\n",
        "import torch.nn.functional as F\n",
        "\n",
        "class FastText(nn.Module):\n",
        "    def __init__(self, vocab_size, embedding_dim, output_dim, pad_idx):\n",
        "        \n",
        "        super().__init__()\n",
        "        \n",
        "        self.embedding = nn.Embedding(vocab_size, embedding_dim, padding_idx=pad_idx)\n",
        "        \n",
        "        self.fc = nn.Linear(embedding_dim, output_dim)\n",
        "        \n",
        "    def forward(self, text):\n",
        "        \n",
        "        #text = [sent len, batch size]\n",
        "        \n",
        "        embedded = self.embedding(text)\n",
        "                \n",
        "        #embedded = [sent len, batch size, emb dim]\n",
        "        \n",
        "        embedded = embedded.permute(1, 0, 2)\n",
        "        \n",
        "        #embedded = [batch size, sent len, emb dim]\n",
        "        \n",
        "        pooled = F.avg_pool2d(embedded, (embedded.shape[1], 1)).squeeze(1) \n",
        "        \n",
        "        #pooled = [batch size, embedding_dim]\n",
        "                \n",
        "        return self.fc(pooled)"
      ],
      "execution_count": 23,
      "outputs": []
    },
    {
      "cell_type": "code",
      "metadata": {
        "id": "W0NbHADNcTLJ"
      },
      "source": [
        "# I_dim = len(TEXT.vocab)\n",
        "# Emb_dim = 100\n",
        "# Out_dim = 1\n",
        "# Pad_Idx = TEXT.vocab.stoi[TEXT.pad_token]\n",
        "\n",
        "# model  = FastText(I_dim, Emb_dim, Out_dim, Pad_Idx)\n",
        "INPUT_DIM = len(TEXT.vocab)\n",
        "EMBEDDING_DIM = 100\n",
        "OUTPUT_DIM = 1\n",
        "PAD_IDX = TEXT.vocab.stoi[TEXT.pad_token]\n",
        "\n",
        "model = FastText(INPUT_DIM, EMBEDDING_DIM, OUTPUT_DIM, PAD_IDX)"
      ],
      "execution_count": 24,
      "outputs": []
    },
    {
      "cell_type": "code",
      "metadata": {
        "colab": {
          "base_uri": "https://localhost:8080/"
        },
        "id": "E_FmnnnkdFpZ",
        "outputId": "7fa3189f-ee7f-41b3-cfc6-93897577467c"
      },
      "source": [
        "# def count_parameters(model):\n",
        "#   return sum(p.numel() for p in model.parameters() if p.requires_grad)\n",
        "\n",
        "# print(f\"The Model has {count_parameters(model):,} trainable parameters\")\n",
        "def count_parameters(model):\n",
        "    return sum(p.numel() for p in model.parameters() if p.requires_grad)\n",
        "\n",
        "print(f'The model has {count_parameters(model):,} trainable parameters')"
      ],
      "execution_count": 25,
      "outputs": [
        {
          "output_type": "stream",
          "text": [
            "The model has 2,500,301 trainable parameters\n"
          ],
          "name": "stdout"
        }
      ]
    },
    {
      "cell_type": "code",
      "metadata": {
        "colab": {
          "base_uri": "https://localhost:8080/"
        },
        "id": "DWNosdend0kS",
        "outputId": "b8550509-e8c4-4163-d987-23228711c39f"
      },
      "source": [
        "# pretrained_embs = TEXT.vocab.vectors\n",
        "\n",
        "# model.embedding.weight.data.copy_(pretrained_embs)\n",
        "pretrained_embeddings = TEXT.vocab.vectors\n",
        "\n",
        "model.embedding.weight.data.copy_(pretrained_embeddings)"
      ],
      "execution_count": 26,
      "outputs": [
        {
          "output_type": "execute_result",
          "data": {
            "text/plain": [
              "tensor([[-0.1117, -0.4966,  0.1631,  ...,  1.2647, -0.2753, -0.1325],\n",
              "        [-0.8555, -0.7208,  1.3755,  ...,  0.0825, -1.1314,  0.3997],\n",
              "        [-0.0382, -0.2449,  0.7281,  ..., -0.1459,  0.8278,  0.2706],\n",
              "        ...,\n",
              "        [-1.0530, -1.0757,  0.3903,  ...,  0.0792, -0.3059,  1.9734],\n",
              "        [ 0.5571, -0.3352,  0.0417,  ...,  0.0257,  1.1868, -0.8791],\n",
              "        [ 0.8085,  0.2957, -0.9159,  ...,  0.3877, -0.8750,  1.6714]])"
            ]
          },
          "metadata": {
            "tags": []
          },
          "execution_count": 26
        }
      ]
    },
    {
      "cell_type": "code",
      "metadata": {
        "id": "9w8av7vBd0ht"
      },
      "source": [
        "# Unk_Idx = TEXT.vocab.stoi[TEXT.unk_token]\n",
        "# #print(Unk_Idx)\n",
        "# model.embedding.weight.data[Unk_Idx] = torch.zeros(Emb_dim)\n",
        "# model.embedding.weight.data[Pad_Idx] = torch.zeros(Emb_dim)\n",
        "UNK_IDX = TEXT.vocab.stoi[TEXT.unk_token]\n",
        "\n",
        "model.embedding.weight.data[UNK_IDX] = torch.zeros(EMBEDDING_DIM)\n",
        "model.embedding.weight.data[PAD_IDX] = torch.zeros(EMBEDDING_DIM)"
      ],
      "execution_count": 27,
      "outputs": []
    },
    {
      "cell_type": "code",
      "metadata": {
        "id": "pEIPevCDd0Zo"
      },
      "source": [
        "# #Training the model \n",
        "# import torch.optim as optim\n",
        "\n",
        "# optimizer = optim.Adam(model.parameters())\n",
        "import torch.optim as optim\n",
        "\n",
        "optimizer = optim.Adam(model.parameters())"
      ],
      "execution_count": 28,
      "outputs": []
    },
    {
      "cell_type": "code",
      "metadata": {
        "id": "E-gJ8xhOd0XP"
      },
      "source": [
        "# criterion = nn.BCEWithLogitsLoss()\n",
        "# model = model.to(device)\n",
        "# criterion = criterion.to(device)\n",
        "criterion = nn.BCEWithLogitsLoss()\n",
        "\n",
        "model = model.to(device)\n",
        "criterion = criterion.to(device)"
      ],
      "execution_count": 29,
      "outputs": []
    },
    {
      "cell_type": "code",
      "metadata": {
        "id": "ht3KMnvehBpS"
      },
      "source": [
        "# #Implementation of function for accuracy\n",
        "# def bin_acc(preds, y):\n",
        "\n",
        "#   rounded_preds = torch.round(torch.sigmoid(preds))\n",
        "#   correct = (rounded_preds == y).float()\n",
        "#   acc = correct.sum() / len(correct)\n",
        "def binary_accuracy(preds, y):\n",
        "    \"\"\"\n",
        "    Returns accuracy per batch, i.e. if you get 8/10 right, this returns 0.8, NOT 8\n",
        "    \"\"\"\n",
        "\n",
        "    #round predictions to the closest integer\n",
        "    rounded_preds = torch.round(torch.sigmoid(preds))\n",
        "    correct = (rounded_preds == y).float() #convert into float for division \n",
        "    acc = correct.sum() / len(correct)\n",
        "    return acc"
      ],
      "execution_count": 30,
      "outputs": []
    },
    {
      "cell_type": "code",
      "metadata": {
        "id": "jLX9MAxqhBD0"
      },
      "source": [
        "# def train(model, iterator, optimizor, criterion):\n",
        "\n",
        "#   epoch_loss = 0\n",
        "#   epoch_acc = 0\n",
        "\n",
        "#   model.train()\n",
        "\n",
        "#   for batch in iterator:\n",
        "\n",
        "#     optimizer.zero_grad()\n",
        "#     predictions = model(batch.text).squeeze(1)\n",
        "#     loss = criterion(predictions, batch.label)\n",
        "#     acc = bin_acc(predictions, batch.label)\n",
        "\n",
        "#     loss.backward()\n",
        "#     optimizer.step()\n",
        "\n",
        "#     epoch_loss += loss.item()\n",
        "#     epoch_acc += acc.item()\n",
        "\n",
        "#   return epoch_loss / len(iterator), epoch_acc / len(iterator)\n",
        "\n",
        "\n",
        "\n",
        "def train(model, iterator, optimizer, criterion):\n",
        "    \n",
        "    epoch_loss = 0\n",
        "    epoch_acc = 0\n",
        "    \n",
        "    model.train()\n",
        "    \n",
        "    for batch in iterator:\n",
        "        \n",
        "        optimizer.zero_grad()\n",
        "        \n",
        "        predictions = model(batch.text).squeeze(1)\n",
        "        \n",
        "        loss = criterion(predictions, batch.label)\n",
        "        \n",
        "        acc = binary_accuracy(predictions, batch.label)\n",
        "        \n",
        "        loss.backward()\n",
        "        \n",
        "        optimizer.step()\n",
        "        \n",
        "        epoch_loss += loss.item()\n",
        "        epoch_acc += acc.item()\n",
        "        \n",
        "    return epoch_loss / len(iterator), epoch_acc / len(iterator)\n",
        "\n"
      ],
      "execution_count": 35,
      "outputs": []
    },
    {
      "cell_type": "code",
      "metadata": {
        "id": "057qHaYohBBM"
      },
      "source": [
        "# def evaluate(model, iterator, criterion):\n",
        "\n",
        "#   epoch_loss = 0\n",
        "#   epoch_acc = 0\n",
        "\n",
        "#   model.eval()\n",
        "\n",
        "#   with torch.no_grad():\n",
        "\n",
        "#     for batch in iterator:\n",
        "\n",
        "#       predictions = model(batch.text).squeeze(1)\n",
        "#       loss = criterion(predictions, batch.label)\n",
        "#       acc = bin_acc(predictions, batch.label)\n",
        "\n",
        "#       epoch_loss += loss.item()\n",
        "#       #epoch_acc += acc.item()\n",
        "\n",
        "#   return epoch_loss/len(iterator), epoch_acc/len(iterator)\n",
        "def evaluate(model, iterator, criterion):\n",
        "    \n",
        "    epoch_loss = 0\n",
        "    epoch_acc = 0\n",
        "    \n",
        "    model.eval()\n",
        "    \n",
        "    with torch.no_grad():\n",
        "    \n",
        "        for batch in iterator:\n",
        "\n",
        "            predictions = model(batch.text).squeeze(1)\n",
        "            \n",
        "            loss = criterion(predictions, batch.label)\n",
        "            \n",
        "            acc = binary_accuracy(predictions, batch.label)\n",
        "\n",
        "            epoch_loss += loss.item()\n",
        "            epoch_acc += acc.item()\n",
        "        \n",
        "    return epoch_loss / len(iterator), epoch_acc / len(iterator)"
      ],
      "execution_count": 36,
      "outputs": []
    },
    {
      "cell_type": "code",
      "metadata": {
        "id": "AJ9V6Fj6hA-n"
      },
      "source": [
        "# import time\n",
        "\n",
        "# def epoch_times(s_time, e_time):\n",
        "#   elapsed_time = e_time - s_time\n",
        "#   elapsed_min = int(elapsed_time / 60)\n",
        "#   elapsed_sec = int(elapsed_time - (elapsed_min * 60))\n",
        "#   return elapsed_min, elapsed_sec\n",
        "import time\n",
        "\n",
        "def epoch_time(start_time, end_time):\n",
        "    elapsed_time = end_time - start_time\n",
        "    elapsed_mins = int(elapsed_time / 60)\n",
        "    elapsed_secs = int(elapsed_time - (elapsed_mins * 60))\n",
        "    return elapsed_mins, elapsed_secs"
      ],
      "execution_count": 37,
      "outputs": []
    },
    {
      "cell_type": "code",
      "metadata": {
        "colab": {
          "base_uri": "https://localhost:8080/"
        },
        "id": "0xB3dboplusv",
        "outputId": "571583d2-661b-40ba-a628-1e4e29eba807"
      },
      "source": [
        "Num_Epochs = 5\n",
        "\n",
        "# best_val_loss = float(\"inf\")\n",
        "\n",
        "# for epoch in range(Num_Epochs):\n",
        "\n",
        "#   s_time = time.time()\n",
        "\n",
        "#   train_loss, train_acc = train(model, train_itr, optimizer, criterion)\n",
        "#   val_loss, val_acc = evaluate(model, valid_itr, criterion)\n",
        "\n",
        "#   e_time = time.time()\n",
        "\n",
        "#   epoch_min, epoch_sec = epoch_times(s_time, e_time)\n",
        "\n",
        "#   if val_loss < best_val_loss:\n",
        "#     best_val_loss = val_loss\n",
        "#     torch.save(model.state_dict(), 'fasttext-model.pt')\n",
        "\n",
        "#     print(f'Epoch: {epoch+1: 02} | Epoch Time: {epoch_min}m {epoch_sec}s')\n",
        "#     print(f'\\tTrain Loss: {train_loss:.3f} | Train Accuracy: {train_acc*100:.2f}%')\n",
        "#     print(f'\\tValidation Loss: {val_loss:.3f} | Validation Accuracy: {val_acc*100:.2f}%')\n",
        "N_EPOCHS = 5\n",
        "\n",
        "best_valid_loss = float('inf')\n",
        "\n",
        "for epoch in range(N_EPOCHS):\n",
        "\n",
        "    start_time = time.time()\n",
        "    \n",
        "    train_loss, train_acc = train(model, train_iterator, optimizer, criterion)\n",
        "    valid_loss, valid_acc = evaluate(model, valid_iterator, criterion)\n",
        "    \n",
        "    end_time = time.time()\n",
        "\n",
        "    epoch_mins, epoch_secs = epoch_time(start_time, end_time)\n",
        "    \n",
        "    if valid_loss < best_valid_loss:\n",
        "        best_valid_loss = valid_loss\n",
        "        torch.save(model.state_dict(), 'tut3-model.pt')\n",
        "    \n",
        "    print(f'Epoch: {epoch+1:02} | Epoch Time: {epoch_mins}m {epoch_secs}s')\n",
        "    print(f'\\tTrain Loss: {train_loss:.3f} | Train Acc: {train_acc*100:.2f}%')\n",
        "    print(f'\\t Val. Loss: {valid_loss:.3f} |  Val. Acc: {valid_acc*100:.2f}%')"
      ],
      "execution_count": 38,
      "outputs": [
        {
          "output_type": "stream",
          "text": [
            "Epoch: 01 | Epoch Time: 0m 10s\n",
            "\tTrain Loss: 0.686 | Train Acc: 58.24%\n",
            "\t Val. Loss: 0.630 |  Val. Acc: 69.38%\n",
            "Epoch: 02 | Epoch Time: 0m 9s\n",
            "\tTrain Loss: 0.645 | Train Acc: 71.93%\n",
            "\t Val. Loss: 0.515 |  Val. Acc: 74.06%\n",
            "Epoch: 03 | Epoch Time: 0m 9s\n",
            "\tTrain Loss: 0.570 | Train Acc: 79.66%\n",
            "\t Val. Loss: 0.432 |  Val. Acc: 80.73%\n",
            "Epoch: 04 | Epoch Time: 0m 9s\n",
            "\tTrain Loss: 0.494 | Train Acc: 84.30%\n",
            "\t Val. Loss: 0.401 |  Val. Acc: 83.70%\n",
            "Epoch: 05 | Epoch Time: 0m 9s\n",
            "\tTrain Loss: 0.430 | Train Acc: 87.05%\n",
            "\t Val. Loss: 0.394 |  Val. Acc: 85.76%\n"
          ],
          "name": "stdout"
        }
      ]
    },
    {
      "cell_type": "code",
      "metadata": {
        "colab": {
          "base_uri": "https://localhost:8080/"
        },
        "id": "WcJZGEdZnElf",
        "outputId": "bd04f061-8b98-4a0c-a00e-1e01b48e5d6e"
      },
      "source": [
        "model.load_state_dict(torch.load('tut3-model.pt'))\n",
        "\n",
        "test_loss, test_acc = evaluate(model, test_iterator, criterion)\n",
        "\n",
        "print(f'Test Loss: {test_loss:.3f} | Test Acc: {test_acc*100:.2f}%')"
      ],
      "execution_count": 39,
      "outputs": [
        {
          "output_type": "stream",
          "text": [
            "Test Loss: 0.389 | Test Acc: 85.40%\n"
          ],
          "name": "stdout"
        }
      ]
    },
    {
      "cell_type": "code",
      "metadata": {
        "id": "RL2jJsiUluhv"
      },
      "source": [
        "import spacy\n",
        "nlp = spacy.load('en_core_web_sm')\n",
        "\n",
        "def predict_sentiment(model, sentence):\n",
        "    model.eval()\n",
        "    tokenized = generate_bigrams([tok.text for tok in nlp.tokenizer(sentence)])\n",
        "    indexed = [TEXT.vocab.stoi[t] for t in tokenized]\n",
        "    tensor = torch.LongTensor(indexed).to(device)\n",
        "    tensor = tensor.unsqueeze(1)\n",
        "    prediction = torch.sigmoid(model(tensor))\n",
        "    return prediction.item()"
      ],
      "execution_count": 40,
      "outputs": []
    },
    {
      "cell_type": "code",
      "metadata": {
        "colab": {
          "base_uri": "https://localhost:8080/"
        },
        "id": "DOw7oP-2BLHO",
        "outputId": "de64d872-b25d-48fd-ab8c-6ee8a15f863c"
      },
      "source": [
        "predict_sentiment(model, \"This film is terrible\")"
      ],
      "execution_count": 43,
      "outputs": [
        {
          "output_type": "execute_result",
          "data": {
            "text/plain": [
              "5.779239700132166e-07"
            ]
          },
          "metadata": {
            "tags": []
          },
          "execution_count": 43
        }
      ]
    },
    {
      "cell_type": "code",
      "metadata": {
        "colab": {
          "base_uri": "https://localhost:8080/"
        },
        "id": "JheuVH0cBLng",
        "outputId": "8420ad01-3484-496d-b536-8f1e81675ddb"
      },
      "source": [
        "predict_sentiment(model, \"This film is great\")"
      ],
      "execution_count": 42,
      "outputs": [
        {
          "output_type": "execute_result",
          "data": {
            "text/plain": [
              "1.0"
            ]
          },
          "metadata": {
            "tags": []
          },
          "execution_count": 42
        }
      ]
    }
  ]
}