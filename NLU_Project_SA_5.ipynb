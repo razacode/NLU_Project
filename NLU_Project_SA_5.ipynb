{
  "nbformat": 4,
  "nbformat_minor": 0,
  "metadata": {
    "colab": {
      "name": "NLU_Project_SA_5",
      "provenance": [],
      "collapsed_sections": []
    },
    "kernelspec": {
      "name": "python3",
      "display_name": "Python 3"
    },
    "language_info": {
      "name": "python"
    },
    "accelerator": "GPU"
  },
  "cells": [
    {
      "cell_type": "markdown",
      "metadata": {
        "id": "TqgcnmFQyzc-"
      },
      "source": [
        "# $C$ Class Sentiment Analysis \n",
        "In this file I will evalute model when we have mutliple class instead of 0 and 1 if we have $C$ class output. so if we have more than two  examples in output require a $C$ dimensional vector and where $C$ is the number of classes."
      ]
    },
    {
      "cell_type": "code",
      "metadata": {
        "id": "P6I-Z7mtyAXj"
      },
      "source": [
        "import torch\n",
        "from torchtext.legacy import data\n",
        "from torchtext.legacy import datasets\n",
        "import random"
      ],
      "execution_count": 11,
      "outputs": []
    },
    {
      "cell_type": "code",
      "metadata": {
        "id": "PO4Qx7Ss5vmk"
      },
      "source": [
        "Seed = 1234\n",
        "torch.manual_seed(Seed)\n",
        "torch.backends.cudnn.deterministic = True\n",
        "\n",
        "Text = data.Field(tokenize= 'spacy', tokenizer_language='en_core_web_sm',)\n",
        "Label = data.LabelField()\n",
        "\n",
        "train_data, test_data = datasets.TREC.splits(Text, Label, fine_grained = False) # instead of IMDB dataset i use TREC\n",
        "train_data, val_data = train_data.split(random_state = random.seed(Seed))"
      ],
      "execution_count": 12,
      "outputs": []
    },
    {
      "cell_type": "code",
      "metadata": {
        "colab": {
          "base_uri": "https://localhost:8080/"
        },
        "id": "CBGj3RxP64tt",
        "outputId": "327893e3-d0f5-45cb-8c7e-83850d694b05"
      },
      "source": [
        "# Looking training example\n",
        "vars(train_data[-1])"
      ],
      "execution_count": 13,
      "outputs": [
        {
          "output_type": "execute_result",
          "data": {
            "text/plain": [
              "{'label': 'DESC', 'text': ['What', 'is', 'a', 'Cartesian', 'Diver', '?']}"
            ]
          },
          "metadata": {
            "tags": []
          },
          "execution_count": 13
        }
      ]
    },
    {
      "cell_type": "code",
      "metadata": {
        "id": "aTTUW8Kb7OWV"
      },
      "source": [
        "Max_Vocab_Size = 25_000\n",
        "\n",
        "Text.build_vocab(train_data, max_size = Max_Vocab_Size,\n",
        "                 vectors = \"glove.6B.100d\",\n",
        "                 unk_init = torch.Tensor.normal_)\n",
        "\n",
        "Label.build_vocab(train_data)"
      ],
      "execution_count": 14,
      "outputs": []
    },
    {
      "cell_type": "code",
      "metadata": {
        "colab": {
          "base_uri": "https://localhost:8080/"
        },
        "id": "SI5bwI2W7OTt",
        "outputId": "66d399ae-25bc-4843-fb04-e14a2a9c026a"
      },
      "source": [
        "#Dataset consist of 6 labels which correspond to 6 types of questions\n",
        "print(Label.vocab.stoi)\n",
        "\n",
        "# HUM about humans realated questions\n",
        "# ENTY about entities realated questions\n",
        "# DESC for a description questions\n",
        "# NUM the answer is numerical for questions  \n",
        "# LOC for questions where the answer is a location\n",
        "# ABBR for questions asking about abbreviations\n"
      ],
      "execution_count": 15,
      "outputs": [
        {
          "output_type": "stream",
          "text": [
            "defaultdict(None, {'HUM': 0, 'ENTY': 1, 'DESC': 2, 'NUM': 3, 'LOC': 4, 'ABBR': 5})\n"
          ],
          "name": "stdout"
        }
      ]
    },
    {
      "cell_type": "code",
      "metadata": {
        "id": "eLCtB9tK7OLX"
      },
      "source": [
        "Batch_Size = 64\n",
        "\n",
        "device = torch.device('cuda' if torch.cuda.is_available() else 'cpu')\n",
        "\n",
        "train_iterator, val_iterator, test_iterator = data.BucketIterator.splits(\n",
        "    (train_data, val_data, test_data),\n",
        "    batch_size = Batch_Size,\n",
        "    device = device\n",
        ")"
      ],
      "execution_count": 16,
      "outputs": []
    },
    {
      "cell_type": "code",
      "metadata": {
        "id": "1GoHyhEx7OJO"
      },
      "source": [
        "import torch.nn as nn\n",
        "import torch.nn.functional as F\n",
        "\n",
        "class CNN(nn.Module):\n",
        "    \n",
        "    def __init__(self, vocab_size, embedding_dim, n_filters, filter_sizes, output_dim,  dropout, pad_idx):\n",
        "        super().__init__()\n",
        "        \n",
        "        self.embedding = nn.Embedding(vocab_size, embedding_dim)\n",
        "        self.convs = nn.ModuleList([\n",
        "                                    nn.Conv2d(in_channels = 1, \n",
        "                                              out_channels = n_filters, \n",
        "                                              kernel_size = (fs, embedding_dim)) \n",
        "                                    for fs in filter_sizes\n",
        "                                    ])\n",
        "        \n",
        "        self.fc = nn.Linear(len(filter_sizes) * n_filters, output_dim)\n",
        "        self.dropout = nn.Dropout(dropout)\n",
        "        \n",
        "    def forward(self, text):\n",
        "                \n",
        "        text = text.permute(1, 0)\n",
        "        embedded = self.embedding(text)\n",
        "        embedded = embedded.unsqueeze(1)\n",
        "                \n",
        "        conved = [F.relu(conv(embedded)).squeeze(3) for conv in self.convs]\n",
        "        pooled = [F.max_pool1d(conv, conv.shape[2]).squeeze(2) for conv in conved]\n",
        "        cat = self.dropout(torch.cat(pooled, dim = 1))\n",
        "\n",
        "        return self.fc(cat)"
      ],
      "execution_count": 30,
      "outputs": []
    },
    {
      "cell_type": "code",
      "metadata": {
        "id": "h51iYQI7EMcQ"
      },
      "source": [
        "INPUT_dim = len(Text.vocab)\n",
        "EMBEDDING_dim = 100\n",
        "N_filters = 100\n",
        "FILTER_size = [2,3,4]\n",
        "OUTPUT_dim = len(Label.vocab)\n",
        "DROPOUT = 0.5\n",
        "PAD_idx = Text.vocab.stoi[Text.pad_token]\n",
        "\n",
        "model = CNN(INPUT_dim, EMBEDDING_dim, N_filters, FILTER_size, OUTPUT_dim, DROPOUT, PAD_idx)"
      ],
      "execution_count": 31,
      "outputs": []
    },
    {
      "cell_type": "code",
      "metadata": {
        "colab": {
          "base_uri": "https://localhost:8080/"
        },
        "id": "UFbrOM4i7OCc",
        "outputId": "b86f4436-b5da-4609-a91a-7468568b4e0c"
      },
      "source": [
        "def count_parameters(model):\n",
        "\n",
        "  return sum(p.numel() for p in model.parameters() if p.requires_grad)\n",
        "\n",
        "print(f'The Model has {count_parameters(model):,} trainable parameters')"
      ],
      "execution_count": 33,
      "outputs": [
        {
          "output_type": "stream",
          "text": [
            "The Model has 842,406 trainable parameters\n"
          ],
          "name": "stdout"
        }
      ]
    },
    {
      "cell_type": "code",
      "metadata": {
        "colab": {
          "base_uri": "https://localhost:8080/"
        },
        "id": "w3x_QFpy7N_w",
        "outputId": "e05f7645-b4cb-4871-9715-d21fd82255ec"
      },
      "source": [
        "#loading pre trained mode\n",
        "\n",
        "pretranined_model = Text.vocab.vectors\n",
        "\n",
        "model.embedding.weight.data.copy_(pretranined_model)"
      ],
      "execution_count": 34,
      "outputs": [
        {
          "output_type": "execute_result",
          "data": {
            "text/plain": [
              "tensor([[-0.1117, -0.4966,  0.1631,  ...,  1.2647, -0.2753, -0.1325],\n",
              "        [-0.8555, -0.7208,  1.3755,  ...,  0.0825, -1.1314,  0.3997],\n",
              "        [ 0.1638,  0.6046,  1.0789,  ..., -0.3140,  0.1844,  0.3624],\n",
              "        ...,\n",
              "        [-0.3110, -0.3398,  1.0308,  ...,  0.5317,  0.2836, -0.0640],\n",
              "        [ 0.0091,  0.2810,  0.7356,  ..., -0.7508,  0.8967, -0.7631],\n",
              "        [ 0.4306,  1.2011,  0.0873,  ...,  0.8817,  0.3722,  0.3458]])"
            ]
          },
          "metadata": {
            "tags": []
          },
          "execution_count": 34
        }
      ]
    },
    {
      "cell_type": "code",
      "metadata": {
        "id": "aXiP1WGlGT3H"
      },
      "source": [
        "Unk_idx = Text.vocab.stoi[Text.unk_token]\n",
        "\n",
        "model.embedding.weight.data[Unk_idx] = torch.zeros(EMBEDDING_dim)\n",
        "model.embedding.weight.data[PAD_idx] = torch.zeros(EMBEDDING_dim)"
      ],
      "execution_count": 35,
      "outputs": []
    },
    {
      "cell_type": "code",
      "metadata": {
        "id": "uiQZsWvKGTs_"
      },
      "source": [
        "import torch.optim as optim\n",
        "\n",
        "optimizer = optim.Adam(model.parameters())\n",
        "criterion = nn.CrossEntropyLoss()\n",
        "model = model.to(device)\n",
        "criterion = criterion.to(device)"
      ],
      "execution_count": 44,
      "outputs": []
    },
    {
      "cell_type": "code",
      "metadata": {
        "id": "-6MnB6aGGTqo"
      },
      "source": [
        "def categorical_accuracy(preds, y):\n",
        "\n",
        "    top_pred = preds.argmax(1, keepdim = True)\n",
        "    correct = top_pred.eq(y.view_as(top_pred)).sum()\n",
        "    acc = correct.float() / y.shape[0]\n",
        "    \n",
        "    return acc"
      ],
      "execution_count": 39,
      "outputs": []
    },
    {
      "cell_type": "code",
      "metadata": {
        "id": "WbDA3muQHg-J"
      },
      "source": [
        "def train(model, iterator, optimizer, criterion):\n",
        "    \n",
        "    epoch_loss = 0\n",
        "    epoch_acc = 0\n",
        "    \n",
        "    model.train()\n",
        "    \n",
        "    for batch in iterator:\n",
        "        \n",
        "        optimizer.zero_grad()\n",
        "        \n",
        "        predictions = model(batch.text)\n",
        "        \n",
        "        loss = criterion(predictions, batch.label)\n",
        "        \n",
        "        acc = categorical_accuracy(predictions, batch.label)\n",
        "        \n",
        "        loss.backward()\n",
        "        \n",
        "        optimizer.step()\n",
        "        \n",
        "        epoch_loss += loss.item()\n",
        "        epoch_acc += acc.item()\n",
        "        \n",
        "    return epoch_loss / len(iterator), epoch_acc / len(iterator)"
      ],
      "execution_count": 45,
      "outputs": []
    },
    {
      "cell_type": "code",
      "metadata": {
        "id": "2GATM2HxHglJ"
      },
      "source": [
        "def evaluate(model, iterator, criterion):\n",
        "    \n",
        "    epoch_loss = 0\n",
        "    epoch_acc = 0\n",
        "    \n",
        "    model.eval()\n",
        "    \n",
        "    with torch.no_grad():\n",
        "    \n",
        "        for batch in iterator:\n",
        "\n",
        "            predictions = model(batch.text)\n",
        "            \n",
        "            loss = criterion(predictions, batch.label)\n",
        "            \n",
        "            acc = categorical_accuracy(predictions, batch.label)\n",
        "\n",
        "            epoch_loss += loss.item()\n",
        "            epoch_acc += acc.item()\n",
        "        \n",
        "    return epoch_loss / len(iterator), epoch_acc / len(iterator)"
      ],
      "execution_count": 41,
      "outputs": []
    },
    {
      "cell_type": "code",
      "metadata": {
        "id": "kurh6r4IHggk"
      },
      "source": [
        "import time\n",
        "\n",
        "def epoch_time(start_time, end_time):\n",
        "    elapsed_time = end_time - start_time\n",
        "    elapsed_mins = int(elapsed_time / 60)\n",
        "    elapsed_secs = int(elapsed_time - (elapsed_mins * 60))\n",
        "    return elapsed_mins, elapsed_secs"
      ],
      "execution_count": 46,
      "outputs": []
    },
    {
      "cell_type": "code",
      "metadata": {
        "colab": {
          "base_uri": "https://localhost:8080/"
        },
        "id": "m9vBXhz_Hpky",
        "outputId": "9c288a96-7a8b-4dad-920b-09b92ac87e72"
      },
      "source": [
        "N_epochs = 5\n",
        "\n",
        "best_val_loss = float('inf')\n",
        "\n",
        "for epoch in range(N_epochs):\n",
        "\n",
        "    start_time = time.time()\n",
        "    \n",
        "    train_loss, train_acc = train(model, train_iterator, optimizer, criterion)\n",
        "    val_loss, val_acc = evaluate(model, val_iterator, criterion)\n",
        "    \n",
        "    end_time = time.time()\n",
        "\n",
        "    epoch_mins, epoch_secs = epoch_time(start_time, end_time)\n",
        "    \n",
        "    if val_loss < best_val_loss:\n",
        "        best_val_loss = val_loss\n",
        "        torch.save(model.state_dict(), 'tut5-model.pt')\n",
        "    \n",
        "    print(f'Epoch: {epoch+1:02} | Epoch Time: {epoch_mins}m {epoch_secs}s')\n",
        "    print(f'\\tTrain Loss: {train_loss:.3f} | Train Acc: {train_acc*100:.2f}%')\n",
        "    print(f'\\t Val. Loss: {val_loss:.3f} |  Val. Acc: {val_acc*100:.2f}%')"
      ],
      "execution_count": 47,
      "outputs": [
        {
          "output_type": "stream",
          "text": [
            "Epoch: 01 | Epoch Time: 0m 0s\n",
            "\tTrain Loss: 1.292 | Train Acc: 49.67%\n",
            "\t Val. Loss: 0.918 |  Val. Acc: 69.37%\n",
            "Epoch: 02 | Epoch Time: 0m 0s\n",
            "\tTrain Loss: 0.850 | Train Acc: 69.39%\n",
            "\t Val. Loss: 0.738 |  Val. Acc: 73.99%\n",
            "Epoch: 03 | Epoch Time: 0m 0s\n",
            "\tTrain Loss: 0.658 | Train Acc: 76.82%\n",
            "\t Val. Loss: 0.628 |  Val. Acc: 77.26%\n",
            "Epoch: 04 | Epoch Time: 0m 0s\n",
            "\tTrain Loss: 0.495 | Train Acc: 83.15%\n",
            "\t Val. Loss: 0.549 |  Val. Acc: 80.62%\n",
            "Epoch: 05 | Epoch Time: 0m 0s\n",
            "\tTrain Loss: 0.372 | Train Acc: 88.42%\n",
            "\t Val. Loss: 0.493 |  Val. Acc: 82.74%\n"
          ],
          "name": "stdout"
        }
      ]
    },
    {
      "cell_type": "code",
      "metadata": {
        "colab": {
          "base_uri": "https://localhost:8080/"
        },
        "id": "-tHhlVyUHpWt",
        "outputId": "2530544a-9b51-45de-da9d-84fb6f47a076"
      },
      "source": [
        "model.load_state_dict(torch.load('tut5-model.pt'))\n",
        "\n",
        "test_loss, test_acc = evaluate(model, test_iterator, criterion)\n",
        "\n",
        "print(f'Test Loss: {test_loss:.3f} | Test Acc: {test_acc*100:.2f}%')"
      ],
      "execution_count": 48,
      "outputs": [
        {
          "output_type": "stream",
          "text": [
            "Test Loss: 0.410 | Test Acc: 86.72%\n"
          ],
          "name": "stdout"
        }
      ]
    },
    {
      "cell_type": "code",
      "metadata": {
        "id": "wn3tiVldIHE3"
      },
      "source": [
        "import spacy\n",
        "nlp = spacy.load('en_core_web_sm')\n",
        "\n",
        "def predict_class(model, sentence, min_len = 4):\n",
        "    model.eval()\n",
        "    tokenized = [tok.text for tok in nlp.tokenizer(sentence)]\n",
        "    if len(tokenized) < min_len:\n",
        "        tokenized += ['<pad>'] * (min_len - len(tokenized))\n",
        "    indexed = [Text.vocab.stoi[t] for t in tokenized]\n",
        "    tensor = torch.LongTensor(indexed).to(device)\n",
        "    tensor = tensor.unsqueeze(1)\n",
        "    preds = model(tensor)\n",
        "    max_preds = preds.argmax(dim = 1)\n",
        "    return max_preds.item()"
      ],
      "execution_count": 50,
      "outputs": []
    },
    {
      "cell_type": "code",
      "metadata": {
        "colab": {
          "base_uri": "https://localhost:8080/"
        },
        "id": "BYU0_nzqIHBu",
        "outputId": "30e91b11-a304-4a3d-8151-ebda4933da77"
      },
      "source": [
        "pred_class = predict_class(model, \"Who is Alex?\")\n",
        "print(f'Predicted class is: {pred_class} = {Label.vocab.itos[pred_class]}')"
      ],
      "execution_count": 55,
      "outputs": [
        {
          "output_type": "stream",
          "text": [
            "Predicted class is: 0 = HUM\n"
          ],
          "name": "stdout"
        }
      ]
    },
    {
      "cell_type": "code",
      "metadata": {
        "colab": {
          "base_uri": "https://localhost:8080/"
        },
        "id": "L5lQU1NxIG8j",
        "outputId": "b5807074-363c-4bd6-a058-b4d5c639e0a5"
      },
      "source": [
        "pred_class = predict_class(model, \"How many hours are in seven hundred days?\")\n",
        "print(f'Predicted class is: {pred_class} = {Label.vocab.itos[pred_class]}')"
      ],
      "execution_count": 58,
      "outputs": [
        {
          "output_type": "stream",
          "text": [
            "Predicted class is: 3 = NUM\n"
          ],
          "name": "stdout"
        }
      ]
    },
    {
      "cell_type": "code",
      "metadata": {
        "colab": {
          "base_uri": "https://localhost:8080/"
        },
        "id": "nQhO_thEIo8t",
        "outputId": "bf05b4e5-dd0b-46c1-a4b6-763c1e730f81"
      },
      "source": [
        "pred_class = predict_class(model, \"What continent is italy in?\")\n",
        "print(f'Predicted class is: {pred_class} = {Label.vocab.itos[pred_class]}')"
      ],
      "execution_count": 60,
      "outputs": [
        {
          "output_type": "stream",
          "text": [
            "Predicted class is: 4 = LOC\n"
          ],
          "name": "stdout"
        }
      ]
    },
    {
      "cell_type": "code",
      "metadata": {
        "colab": {
          "base_uri": "https://localhost:8080/"
        },
        "id": "PEguGwavIo09",
        "outputId": "c89bc3e7-17af-488a-c7a2-dd48d8fb4299"
      },
      "source": [
        "pred_class = predict_class(model, \"What does BTW stand for?\")\n",
        "print(f'Predicted class is: {pred_class} = {Label.vocab.itos[pred_class]}')"
      ],
      "execution_count": 61,
      "outputs": [
        {
          "output_type": "stream",
          "text": [
            "Predicted class is: 5 = ABBR\n"
          ],
          "name": "stdout"
        }
      ]
    }
  ]
}